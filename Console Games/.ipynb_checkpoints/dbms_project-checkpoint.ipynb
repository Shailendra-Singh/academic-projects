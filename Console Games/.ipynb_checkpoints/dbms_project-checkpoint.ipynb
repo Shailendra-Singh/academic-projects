{
 "cells": [
  {
   "cell_type": "code",
   "execution_count": 1,
   "id": "c212c88f",
   "metadata": {},
   "outputs": [],
   "source": [
    "import pandas as pd\n",
    "import numpy as np\n",
    "import random"
   ]
  },
  {
   "cell_type": "code",
   "execution_count": 2,
   "id": "0e88b3a9",
   "metadata": {},
   "outputs": [],
   "source": [
    "players = pd.read_csv('games_data/players.csv', on_bad_lines='skip')"
   ]
  },
  {
   "cell_type": "code",
   "execution_count": 3,
   "id": "cce25ecf",
   "metadata": {},
   "outputs": [],
   "source": [
    "games = pd.read_csv('games_data/games.csv', on_bad_lines='skip')"
   ]
  },
  {
   "cell_type": "code",
   "execution_count": 4,
   "id": "7e259bb6",
   "metadata": {},
   "outputs": [
    {
     "name": "stderr",
     "output_type": "stream",
     "text": [
      "C:\\Users\\Shail\\anaconda3\\lib\\site-packages\\IPython\\core\\interactiveshell.py:3444: DtypeWarning: Columns (6) have mixed types.Specify dtype option on import or set low_memory=False.\n",
      "  exec(code_obj, self.user_global_ns, self.user_ns)\n"
     ]
    }
   ],
   "source": [
    "games_details = pd.read_csv('games_data/games_details.csv', on_bad_lines='skip')"
   ]
  },
  {
   "cell_type": "code",
   "execution_count": 5,
   "id": "c3c6d542",
   "metadata": {},
   "outputs": [],
   "source": [
    "ranking = pd.read_csv('games_data/ranking.csv', on_bad_lines='skip')"
   ]
  },
  {
   "cell_type": "code",
   "execution_count": 6,
   "id": "7b079df3",
   "metadata": {},
   "outputs": [],
   "source": [
    "teams = pd.read_csv('games_data/teams.csv', on_bad_lines='skip')"
   ]
  },
  {
   "cell_type": "code",
   "execution_count": 7,
   "id": "4772fa6e",
   "metadata": {},
   "outputs": [],
   "source": [
    "console = pd.read_csv('games_data/games_data_cleaned.csv')"
   ]
  },
  {
   "cell_type": "code",
   "execution_count": 8,
   "id": "9553ed5b",
   "metadata": {},
   "outputs": [],
   "source": [
    "# Create Gamer Table\n",
    "def get_tag(fname, lname=None):\n",
    "\ttry:\n",
    "\t\tif lname:\n",
    "\t\t\treturn fname[:3]+lname[:3]\n",
    "\texcept:\n",
    "\t\treturn fname[:3] + fname[:-3:-1]\n",
    "\n",
    "\treturn fname[:3]+fname[:-3:-1]"
   ]
  },
  {
   "cell_type": "code",
   "execution_count": 9,
   "id": "51ae82cb",
   "metadata": {},
   "outputs": [],
   "source": [
    "gamer_table=games_details[['PLAYER_ID','PLAYER_NAME','NICKNAME','TEAM_CITY','PF','FG_PCT']].drop_duplicates().sort_values(by='PLAYER_ID')\n",
    "gamer_table=gamer_table.groupby('PLAYER_ID').first()\n",
    "gamer_table=gamer_table.reset_index()\n",
    "gamer_table['FirstName']=gamer_table['PLAYER_NAME'].str.split(' ')\n",
    "gamer_table['LastName']=gamer_table['FirstName'].str[1]\n",
    "gamer_table['FirstName']=gamer_table['FirstName'].str[0]\n",
    "\n",
    "gamer_table['NICKNAME'] = gamer_table.apply(lambda x: get_tag(x.FirstName, x.LastName), axis=1)\n",
    "gamer_table['GamerScore']=round(gamer_table['FG_PCT']*100)\n",
    "gamer_table['Age'] = np.random.randint(13, 45, gamer_table.shape[0])\n",
    "gamer_table[gamer_table['GamerScore'].isnull()] = gamer_table[gamer_table['GamerScore'].isnull()\n",
    "                                                             ].apply(lambda x: random.randint(11,99))\n",
    "gamer_table['GamerScore']=gamer_table['GamerScore'].astype('int32')\n",
    "gamer_table.rename(columns={'PLAYER_ID':'UID','NICKNAME':'GamerTag','TEAM_CITY':'City'}, inplace=True)\n",
    "gamer_table = gamer_table[['UID','FirstName','LastName','GamerTag','City','Age','GamerScore']].drop_duplicates().sort_values(by='UID')"
   ]
  },
  {
   "cell_type": "code",
   "execution_count": 10,
   "id": "80867aa0-f53e-430a-8adc-7c2e1c24af3c",
   "metadata": {},
   "outputs": [],
   "source": [
    "cities = pd.read_csv('games_data/uscities.csv', on_bad_lines='skip')\n",
    "cities = cities[['city','state_name']]\n",
    "cities['City'] = cities['city']\n",
    "cities = cities[['City','state_name']]"
   ]
  },
  {
   "cell_type": "code",
   "execution_count": 11,
   "id": "8d53adc3",
   "metadata": {},
   "outputs": [],
   "source": [
    "gamer_table=pd.merge(\n",
    "    gamer_table,\n",
    "    cities,\n",
    "    on=\"City\"\n",
    ")\n",
    "gamer_table=gamer_table.groupby('UID').first()\n",
    "gamer_table=gamer_table.reset_index()\n",
    "gamer_table['GamerTag']=gamer_table['GamerTag'].apply(str.lower)\n",
    "gamer_table.rename(columns={'state_name':'State'}, inplace=True)"
   ]
  },
  {
   "cell_type": "code",
   "execution_count": 12,
   "id": "0bb4878e",
   "metadata": {},
   "outputs": [],
   "source": [
    "# Remove useless system values.\n",
    "console=console[console['System']!='4']\n",
    "\n",
    "# Fix System Column\n",
    "console['System2']=console['System'].str.split(' ')\n",
    "console['System2']=console['System2'].str[0]\n",
    "console['System']=console['System2']\n",
    "console=console.drop('System2',axis=1)\n",
    "console.head()\n",
    "\n",
    "# Fix Year Column\n",
    "console['Year']=console['Year'].apply(pd.to_numeric)\n",
    "\n",
    "# Create Categorical Column Codes\n",
    "#-----------------------------------\n",
    "# Set all desired cols as category\n",
    "console['CategoryCode'] = console['Category'].astype('category')\n",
    "console['SystemCode'] = console['System'].astype('category')\n",
    "console['PublisherCode'] = console['Publisher'].astype('category')\n",
    "# Select all category columns and apply cat.codes attribute\n",
    "cat_cols = console.select_dtypes(['category']).columns\n",
    "console[cat_cols]=console[cat_cols].apply(lambda x : x.cat.codes+1)"
   ]
  },
  {
   "cell_type": "code",
   "execution_count": 13,
   "id": "79ff16bd",
   "metadata": {},
   "outputs": [],
   "source": [
    "# Create Games Table\n",
    "games_temp = games[['GAME_ID','REB_home','FT_PCT_away']].drop_duplicates()\n",
    "games_temp.columns = ('GameId','Price','Rating')"
   ]
  },
  {
   "cell_type": "code",
   "execution_count": 14,
   "id": "d1094752",
   "metadata": {},
   "outputs": [],
   "source": [
    "console_temp = console[['Game','CategoryCode']].drop_duplicates()\n",
    "console_temp = console_temp.reset_index()"
   ]
  },
  {
   "cell_type": "code",
   "execution_count": 15,
   "id": "0cd55d93",
   "metadata": {},
   "outputs": [],
   "source": [
    "games_temp = games_temp[:console_temp.shape[0]]\n",
    "games_temp=games_temp.reset_index()"
   ]
  },
  {
   "cell_type": "code",
   "execution_count": 16,
   "id": "4596c332",
   "metadata": {},
   "outputs": [],
   "source": [
    "games_temp['index']=np.arange(1,games_temp.shape[0]+1,1)\n",
    "console_temp['index']=np.arange(1,games_temp.shape[0]+1,1)"
   ]
  },
  {
   "cell_type": "code",
   "execution_count": 17,
   "id": "3738c53b",
   "metadata": {},
   "outputs": [],
   "source": [
    "games_table = pd.merge(games_temp, console_temp,on=\"index\")\n",
    "games_table['Rating']=games_table['Rating']*5\n",
    "games_table['Rating']=games_table['Rating'].round(2)\n",
    "games_table = games_table[['GameId','Game','CategoryCode','Price','Rating']]\n",
    "games_table.rename(columns={'Game':'Name','CategoryCode':'GenreId'}, inplace=True)\n",
    "games_table['AgeRating']=np.random.randint(1, 4, games_table.shape[0])"
   ]
  },
  {
   "cell_type": "code",
   "execution_count": 18,
   "id": "b1831b7f",
   "metadata": {},
   "outputs": [],
   "source": [
    "# Create GameConsoleAvailability\n",
    "game_console_table = pd.merge(console[['Game','SystemCode']],\n",
    "                              games_table[['Name','GameId']],\n",
    "                              left_on=\"Game\",\n",
    "                              right_on=\"Name\")\n",
    "game_console_table = game_console_table[['GameId','SystemCode']].drop_duplicates()\n",
    "game_console_table.columns = ('GameId','ConsoleId')"
   ]
  },
  {
   "cell_type": "code",
   "execution_count": 19,
   "id": "d8985dad",
   "metadata": {},
   "outputs": [],
   "source": [
    "# Create Ratings Table\n",
    "ratings_data = [[1,'Rated G','General audiences – All ages admitted.'],\n",
    "                [2,'Rated PG','Parental guidance suggested – Some material may not be suitable for pre-teenagers.'],\n",
    "                [3,'Rated R','Restricted – Under 17 requires accompanying parent or adult guardian.'],\n",
    "                [4,'Rated X','No one under 17 admitted.']]\n",
    "\n",
    "ratings_table = pd.DataFrame(ratings_data, columns = ['AgeRatingId', 'AgeRatingName','AgeRatingDescription'])"
   ]
  },
  {
   "cell_type": "code",
   "execution_count": 20,
   "id": "edaaed01",
   "metadata": {},
   "outputs": [],
   "source": [
    "# Create Console Table\n",
    "console_table = console[['System','SystemCode']].drop_duplicates().sort_values(by='SystemCode')\n",
    "console_table = console_table.reset_index(drop=True)\n",
    "console_table.rename(columns={'SystemCode':'ConsoleId', 'System':'ConsoleName'}, inplace=True)\n",
    "console_table = console_table[['ConsoleId','ConsoleName']]"
   ]
  },
  {
   "cell_type": "code",
   "execution_count": 21,
   "id": "47b83164",
   "metadata": {},
   "outputs": [],
   "source": [
    "# Create Genre Table\n",
    "genre_table = console[['Category','CategoryCode']].drop_duplicates().sort_values(by='CategoryCode')\n",
    "genre_table = genre_table.reset_index(drop=True)\n",
    "genre_table.rename(columns={'Category':'Genre','CategoryCode':'GenreId'}, inplace=True)\n",
    "genre_table = genre_table[['GenreId','Genre']]"
   ]
  },
  {
   "cell_type": "code",
   "execution_count": 22,
   "id": "916803c5",
   "metadata": {},
   "outputs": [],
   "source": [
    "# Create Subscription Table\n",
    "games_details_temp = games_details[['GAME_ID','PLAYER_ID']]\n",
    "subs_table = pd.merge(games_details_temp,gamer_table[['UID','GamerTag']],right_on=\"UID\",left_on=\"PLAYER_ID\")\n",
    "subs_table = subs_table[['UID','GamerTag','GAME_ID']]\n",
    "subs_table = pd.merge(subs_table,games_table[['GameId']],right_on=\"GameId\",left_on=\"GAME_ID\")\n",
    "subs_table = subs_table[['UID','GamerTag','GameId']]\n",
    "subs_table['SubscriptionId'] = np.random.randint(1, 3, subs_table.shape[0])"
   ]
  },
  {
   "cell_type": "code",
   "execution_count": 23,
   "id": "d0a6f0da",
   "metadata": {},
   "outputs": [],
   "source": [
    "# Create Game Subscription Type Table\n",
    "subscription_data = [[1,'Free'],[2,'Freemium'],[3,'Paid']]\n",
    "game_sub_type_table = pd.DataFrame(subscription_data, columns = ['SubscriptionId', 'SubscriptionName'])"
   ]
  },
  {
   "cell_type": "code",
   "execution_count": 24,
   "id": "8ec0813c",
   "metadata": {},
   "outputs": [],
   "source": [
    "from os import path\n",
    "output_path = r\"C:\\Users\\Shail\\Documents\\PythonWorkspace\\Notebooks\\games_data\\output\""
   ]
  },
  {
   "cell_type": "code",
   "execution_count": 25,
   "id": "dba60895",
   "metadata": {},
   "outputs": [],
   "source": [
    "# 1. Users Table\n",
    "gamer_table.to_csv(path.join(output_path,\"users.csv\"), sep=',', encoding='utf-8',index=False)\n",
    "# 2. Games Table\n",
    "games_table.to_csv(path.join(output_path,\"games.csv\"), sep=',', encoding='utf-8',index=False)\n",
    "# 3. Genre Table\n",
    "genre_table.to_csv(path.join(output_path,\"genre.csv\"), sep=',', encoding='utf-8',index=False)\n",
    "# 4. Game Console Table\n",
    "game_console_table.to_csv(path.join(output_path,\"game_console.csv\"), sep=',', encoding='utf-8',index=False)\n",
    "# 5. Age Ratings Table\n",
    "ratings_table.to_csv(path.join(output_path,\"age_ratings.csv\"), sep=',', encoding='utf-8',index=False)\n",
    "# 6. Console Table\n",
    "console_table.to_csv(path.join(output_path,\"consoles.csv\"), sep=',', encoding='utf-8',index=False)\n",
    "# 7. Game Subscription Type Table\n",
    "game_sub_type_table.to_csv(path.join(output_path,\"subscription_types.csv\"), sep=',', encoding='utf-8',index=False)\n",
    "# 8. Subscription Table\n",
    "subs_table.to_csv(path.join(output_path,\"subscriptions.csv\"), sep=',', encoding='utf-8',index=False)"
   ]
  },
  {
   "cell_type": "code",
   "execution_count": null,
   "id": "bc1ed4d0",
   "metadata": {},
   "outputs": [],
   "source": []
  }
 ],
 "metadata": {
  "kernelspec": {
   "display_name": "Python 3 (ipykernel)",
   "language": "python",
   "name": "python3"
  },
  "language_info": {
   "codemirror_mode": {
    "name": "ipython",
    "version": 3
   },
   "file_extension": ".py",
   "mimetype": "text/x-python",
   "name": "python",
   "nbconvert_exporter": "python",
   "pygments_lexer": "ipython3",
   "version": "3.9.7"
  }
 },
 "nbformat": 4,
 "nbformat_minor": 5
}
